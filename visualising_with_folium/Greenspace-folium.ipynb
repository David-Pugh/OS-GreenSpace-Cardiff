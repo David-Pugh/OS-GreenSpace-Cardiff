{
 "cells": [
  {
   "cell_type": "markdown",
   "metadata": {},
   "source": [
    "# Exploring the GreenSpaces Shapefiles using Python and Folium"
   ]
  },
  {
   "cell_type": "code",
   "execution_count": null,
   "metadata": {
    "collapsed": true
   },
   "outputs": [],
   "source": [
    "import folium as flm\n",
    "import geopandas as gpd"
   ]
  },
  {
   "cell_type": "markdown",
   "metadata": {},
   "source": [
    "### Create folium Map"
   ]
  },
  {
   "cell_type": "code",
   "execution_count": null,
   "metadata": {
    "collapsed": true,
    "scrolled": true
   },
   "outputs": [],
   "source": [
    "m = flm.Map(location=[51.52, -3.12],\n",
    "        tiles='Stamen Toner',\n",
    "        zoom_start=12)"
   ]
  },
  {
   "cell_type": "markdown",
   "metadata": {},
   "source": [
    "We can add a few reference points, such as work and home"
   ]
  },
  {
   "cell_type": "code",
   "execution_count": null,
   "metadata": {
    "collapsed": false,
    "scrolled": true
   },
   "outputs": [],
   "source": [
    "home_icon = flm.Icon(color='green')\n",
    "work_icon = flm.Icon(color='red')\n",
    "\n",
    "flm.Marker([51.491, -3.165], popup='<i>My House</i>', icon=home_icon).add_to(m)\n",
    "flm.Marker([51.553989, -3.029008], popup='<i>My Work</i>', icon=work_icon).add_to(m)"
   ]
  },
  {
   "cell_type": "markdown",
   "metadata": {},
   "source": [
    "### Read the shapefile"
   ]
  },
  {
   "cell_type": "markdown",
   "metadata": {},
   "source": [
    "Use GeoPandas"
   ]
  },
  {
   "cell_type": "code",
   "execution_count": null,
   "metadata": {
    "collapsed": true
   },
   "outputs": [],
   "source": [
    "shape_data = gpd.read_file(\"ST_GreenspaceSite.shp\")\n",
    "access_data = gpd.read_file(\"ST_AccessPoint.shp\")"
   ]
  },
  {
   "cell_type": "markdown",
   "metadata": {},
   "source": [
    "This should have read the file in as a GeoPandas Dataframe, lets have a look at its structure"
   ]
  },
  {
   "cell_type": "code",
   "execution_count": null,
   "metadata": {
    "collapsed": false
   },
   "outputs": [],
   "source": [
    "shape_data.head(3)"
   ]
  },
  {
   "cell_type": "code",
   "execution_count": null,
   "metadata": {
    "collapsed": false
   },
   "outputs": [],
   "source": [
    "access_data.head()"
   ]
  },
  {
   "cell_type": "markdown",
   "metadata": {},
   "source": [
    "### Fnd out and Transform the CRS"
   ]
  },
  {
   "cell_type": "markdown",
   "metadata": {},
   "source": [
    "Lets find out what Coordinate Reference System (CRS) the Shapefile is using"
   ]
  },
  {
   "cell_type": "code",
   "execution_count": null,
   "metadata": {
    "collapsed": false
   },
   "outputs": [],
   "source": [
    "shape_data.crs"
   ]
  },
  {
   "cell_type": "markdown",
   "metadata": {},
   "source": [
    "Find out about the EPSG at http://www.epsg.org - and look up what the code means at http://spatialreference.org/ref/epsg/. We can see that 27700 refers (unsurprisingly) to the British National Grid http://spatialreference.org/ref/epsg/27700/. "
   ]
  },
  {
   "cell_type": "markdown",
   "metadata": {},
   "source": [
    "To plot on many of the online basemaps, the Coordinate Reference System (CRS)to be transformed over to the WGS84 - this is epsg 4326. Lets look the geometry data:"
   ]
  },
  {
   "cell_type": "code",
   "execution_count": null,
   "metadata": {
    "collapsed": false
   },
   "outputs": [],
   "source": [
    "shape_data['geometry'].head()"
   ]
  },
  {
   "cell_type": "code",
   "execution_count": null,
   "metadata": {
    "collapsed": false
   },
   "outputs": [],
   "source": [
    "access_data.head()"
   ]
  },
  {
   "cell_type": "code",
   "execution_count": null,
   "metadata": {
    "collapsed": true
   },
   "outputs": [],
   "source": [
    "# Let's take a copy of our layer\n",
    "shape_data_proj = shape_data.copy()\n",
    "access_data_proj = access_data.copy()\n",
    "\n",
    "# Reproject the geometries by replacing the values with projected ones\n",
    "shape_data_proj['geometry'] = shape_data_proj['geometry'].to_crs(epsg=4326)\n",
    "access_data_proj['geometry'] = access_data_proj['geometry'].to_crs(epsg=4326)"
   ]
  },
  {
   "cell_type": "markdown",
   "metadata": {},
   "source": [
    "Lets just take a look to see if the geometry has changed"
   ]
  },
  {
   "cell_type": "code",
   "execution_count": null,
   "metadata": {
    "collapsed": false
   },
   "outputs": [],
   "source": [
    "shape_data_proj['geometry'].head()"
   ]
  },
  {
   "cell_type": "code",
   "execution_count": null,
   "metadata": {
    "collapsed": false
   },
   "outputs": [],
   "source": [
    "access_data_proj['geometry'].head()"
   ]
  },
  {
   "cell_type": "markdown",
   "metadata": {},
   "source": [
    "We can see that the CRS has now changed to (longitude, latitude).\n",
    "We can now view it on a Folium map. To do this we need to convert it into a GeoJSON file. This is easily achieved in GeoPandas."
   ]
  },
  {
   "cell_type": "markdown",
   "metadata": {},
   "source": [
    "### Covert to GeoJSON"
   ]
  },
  {
   "cell_type": "code",
   "execution_count": null,
   "metadata": {
    "collapsed": false
   },
   "outputs": [],
   "source": [
    "shape_geojson = shape_data_proj.to_json()"
   ]
  },
  {
   "cell_type": "markdown",
   "metadata": {},
   "source": [
    "Now its a simple case of adding the data as a layer on the map."
   ]
  },
  {
   "cell_type": "markdown",
   "metadata": {},
   "source": [
    "### Adding Layers to the Map"
   ]
  },
  {
   "cell_type": "markdown",
   "metadata": {},
   "source": [
    "Just plotting the access layers as GeoJSON will add large markers all over the map, not teh prettiest! Lets look at adding these as smaller points with extra information."
   ]
  },
  {
   "cell_type": "code",
   "execution_count": null,
   "metadata": {
    "collapsed": false
   },
   "outputs": [],
   "source": [
    "access_data_proj.head()"
   ]
  },
  {
   "cell_type": "markdown",
   "metadata": {},
   "source": [
    "so we have a data frame with accessType and the corordinates in geometry. We can use this to create a bespoke layer rather than using GeoJSON. In the following code we create a circular marker for each access point, with a popup that details the access type. Each different access type is coloured differently. This is added as a feature layer so we can switch it on and off using the map. First, lets see the different access types: "
   ]
  },
  {
   "cell_type": "code",
   "execution_count": null,
   "metadata": {
    "collapsed": false
   },
   "outputs": [],
   "source": [
    "access_data_proj['accessType'].unique()"
   ]
  },
  {
   "cell_type": "markdown",
   "metadata": {},
   "source": [
    "Define different colours for each acccess type"
   ]
  },
  {
   "cell_type": "code",
   "execution_count": null,
   "metadata": {
    "collapsed": true
   },
   "outputs": [],
   "source": [
    "def access_type(x):\n",
    "    if x=='Pedestrian':\n",
    "        return'blue' \n",
    "    elif x=='Motor Vehicle': \n",
    "        return 'red'\n",
    "    else:\n",
    "        return 'purple'"
   ]
  },
  {
   "cell_type": "code",
   "execution_count": null,
   "metadata": {
    "collapsed": false
   },
   "outputs": [],
   "source": [
    "folium.GeoJson(\n",
    "    shape_geojson,\n",
    "    style_function=lambda feature: {\n",
    "        'fillColor': 'green',\n",
    "        'color' : 'green',\n",
    "        'weight' : 2,\n",
    "        'dashArray' : '5, 5'\n",
    "        },\n",
    "    name='GreenSpaces'\n",
    "    ).add_to(m)\n",
    "\n",
    "access_feature_group = folium.FeatureGroup(\"Access Locations\")\n",
    "\n",
    "for idx,row in access_data_proj.iterrows():\n",
    "    access_feature_group.add_child(\n",
    "                folium.features.CircleMarker(location=[row['geometry'].y, row['geometry'].x],\n",
    "                                radius = 2,\n",
    "                                fillColor='darkgray',\n",
    "                                color=access_type(row['accessType'])\n",
    "                                ,popup=row['accessType']\n",
    "                                )\n",
    "    )\n",
    "    \n",
    "m.add_child(access_feature_group)\n",
    "\n",
    "folium.LayerControl().add_to(m)\n",
    "m"
   ]
  },
  {
   "cell_type": "markdown",
   "metadata": {},
   "source": [
    "\n",
    "\n",
    "for idx,row in access_data_proj.iterrows():\n",
    "    folium.features.CircleMarker(location=[row['geometry'].y, row['geometry'].x],\n",
    "                                radius = 2,\n",
    "                                color=access_type(row['accessType'])\n",
    "                                #,popup=row['accessType']\n",
    "                                ).add_to(m)\n",
    "m"
   ]
  },
  {
   "cell_type": "code",
   "execution_count": null,
   "metadata": {
    "collapsed": true
   },
   "outputs": [],
   "source": []
  }
 ],
 "metadata": {
  "kernelspec": {
   "display_name": "Python 3",
   "language": "python",
   "name": "python3"
  },
  "language_info": {
   "codemirror_mode": {
    "name": "ipython",
    "version": 3
   },
   "file_extension": ".py",
   "mimetype": "text/x-python",
   "name": "python",
   "nbconvert_exporter": "python",
   "pygments_lexer": "ipython3",
   "version": "3.4.5"
  }
 },
 "nbformat": 4,
 "nbformat_minor": 2
}
